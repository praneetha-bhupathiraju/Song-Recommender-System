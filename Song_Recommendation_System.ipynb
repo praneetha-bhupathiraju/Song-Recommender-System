{
  "nbformat": 4,
  "nbformat_minor": 0,
  "metadata": {
    "colab": {
      "name": "Song_Recommendation_System (1).ipynb",
      "provenance": [],
      "collapsed_sections": []
    },
    "kernelspec": {
      "name": "python3",
      "display_name": "Python 3"
    }
  },
  "cells": [
    {
      "cell_type": "code",
      "metadata": {
        "id": "D9z4jKEVSv-T"
      },
      "source": [
        "import os\n",
        "import warnings\n",
        "warnings.simplefilter(action = 'ignore', category=FutureWarning)\n",
        "warnings.filterwarnings('ignore')\n",
        "def ignore_warn(*args, **kwargs):\n",
        "    pass\n",
        "warnings.warn = ignore_warn #ignore annoying warning (from sklearn and seaborn)\n",
        "import pandas as pd\n",
        "import numpy as np\n",
        "import time\n",
        "from sklearn.model_selection import train_test_split\n",
        "from scipy.sparse import coo_matrix\n",
        "import math as mt\n",
        "from scipy.sparse.linalg import * #used for matrix multiplication\n",
        "from scipy.sparse.linalg import svds\n",
        "from scipy.sparse import csc_matrix\n",
        "from scipy.stats import skew, norm, probplot\n",
        "import seaborn as sns\n"
      ],
      "execution_count": null,
      "outputs": []
    },
    {
      "cell_type": "markdown",
      "metadata": {
        "id": "ECP2atqRToiz"
      },
      "source": [
        "# **Load Dataset**"
      ]
    },
    {
      "cell_type": "code",
      "metadata": {
        "id": "h18JMGrgTDyd"
      },
      "source": [
        "triplets_file = 'https://static.turi.com/datasets/millionsong/10000.txt'\n",
        "songs_metadata_file= 'https://static.turi.com/datasets/millionsong/song_data.csv'"
      ],
      "execution_count": null,
      "outputs": []
    },
    {
      "cell_type": "code",
      "metadata": {
        "id": "eFftkLtRULOI"
      },
      "source": [
        "count_play_df = pd.read_table(triplets_file,header=None)\n",
        "count_play_df.columns = ['user', 'song', 'play_count']"
      ],
      "execution_count": null,
      "outputs": []
    },
    {
      "cell_type": "code",
      "metadata": {
        "id": "WfSxO1xrVHDV"
      },
      "source": [
        "track_metadata_df = pd.read_csv(songs_metadata_file)"
      ],
      "execution_count": null,
      "outputs": []
    },
    {
      "cell_type": "code",
      "metadata": {
        "id": "RwNqW_xzVfNb",
        "colab": {
          "base_uri": "https://localhost:8080/",
          "height": 458
        },
        "outputId": "2594567f-bbcf-49d3-c9eb-1dff09776b86"
      },
      "source": [
        "print('First see of track metadata:')\n",
        "print('Number of rows:', track_metadata_df.shape[0])\n",
        "print('Number of unique songs:', len(track_metadata_df.song_id.unique()))\n",
        "display(track_metadata_df.head())\n",
        "print('Note the problem with repeated track metadata. Let\\'s see of counts play song by users:')\n",
        "display(count_play_df.shape, count_play_df.head())"
      ],
      "execution_count": null,
      "outputs": [
        {
          "output_type": "stream",
          "text": [
            "First see of track metadata:\n",
            "Number of rows: 1000000\n",
            "Number of unique songs: 999056\n"
          ],
          "name": "stdout"
        },
        {
          "output_type": "display_data",
          "data": {
            "text/html": [
              "<div>\n",
              "<style scoped>\n",
              "    .dataframe tbody tr th:only-of-type {\n",
              "        vertical-align: middle;\n",
              "    }\n",
              "\n",
              "    .dataframe tbody tr th {\n",
              "        vertical-align: top;\n",
              "    }\n",
              "\n",
              "    .dataframe thead th {\n",
              "        text-align: right;\n",
              "    }\n",
              "</style>\n",
              "<table border=\"1\" class=\"dataframe\">\n",
              "  <thead>\n",
              "    <tr style=\"text-align: right;\">\n",
              "      <th></th>\n",
              "      <th>song_id</th>\n",
              "      <th>title</th>\n",
              "      <th>release</th>\n",
              "      <th>artist_name</th>\n",
              "      <th>year</th>\n",
              "    </tr>\n",
              "  </thead>\n",
              "  <tbody>\n",
              "    <tr>\n",
              "      <th>0</th>\n",
              "      <td>SOQMMHC12AB0180CB8</td>\n",
              "      <td>Silent Night</td>\n",
              "      <td>Monster Ballads X-Mas</td>\n",
              "      <td>Faster Pussy cat</td>\n",
              "      <td>2003</td>\n",
              "    </tr>\n",
              "    <tr>\n",
              "      <th>1</th>\n",
              "      <td>SOVFVAK12A8C1350D9</td>\n",
              "      <td>Tanssi vaan</td>\n",
              "      <td>Karkuteillä</td>\n",
              "      <td>Karkkiautomaatti</td>\n",
              "      <td>1995</td>\n",
              "    </tr>\n",
              "    <tr>\n",
              "      <th>2</th>\n",
              "      <td>SOGTUKN12AB017F4F1</td>\n",
              "      <td>No One Could Ever</td>\n",
              "      <td>Butter</td>\n",
              "      <td>Hudson Mohawke</td>\n",
              "      <td>2006</td>\n",
              "    </tr>\n",
              "    <tr>\n",
              "      <th>3</th>\n",
              "      <td>SOBNYVR12A8C13558C</td>\n",
              "      <td>Si Vos Querés</td>\n",
              "      <td>De Culo</td>\n",
              "      <td>Yerba Brava</td>\n",
              "      <td>2003</td>\n",
              "    </tr>\n",
              "    <tr>\n",
              "      <th>4</th>\n",
              "      <td>SOHSBXH12A8C13B0DF</td>\n",
              "      <td>Tangle Of Aspens</td>\n",
              "      <td>Rene Ablaze Presents Winter Sessions</td>\n",
              "      <td>Der Mystic</td>\n",
              "      <td>0</td>\n",
              "    </tr>\n",
              "  </tbody>\n",
              "</table>\n",
              "</div>"
            ],
            "text/plain": [
              "              song_id              title  ...       artist_name  year\n",
              "0  SOQMMHC12AB0180CB8       Silent Night  ...  Faster Pussy cat  2003\n",
              "1  SOVFVAK12A8C1350D9        Tanssi vaan  ...  Karkkiautomaatti  1995\n",
              "2  SOGTUKN12AB017F4F1  No One Could Ever  ...    Hudson Mohawke  2006\n",
              "3  SOBNYVR12A8C13558C      Si Vos Querés  ...       Yerba Brava  2003\n",
              "4  SOHSBXH12A8C13B0DF   Tangle Of Aspens  ...        Der Mystic     0\n",
              "\n",
              "[5 rows x 5 columns]"
            ]
          },
          "metadata": {
            "tags": []
          }
        },
        {
          "output_type": "stream",
          "text": [
            "Note the problem with repeated track metadata. Let's see of counts play song by users:\n"
          ],
          "name": "stdout"
        },
        {
          "output_type": "display_data",
          "data": {
            "text/plain": [
              "(2000000, 3)"
            ]
          },
          "metadata": {
            "tags": []
          }
        },
        {
          "output_type": "display_data",
          "data": {
            "text/html": [
              "<div>\n",
              "<style scoped>\n",
              "    .dataframe tbody tr th:only-of-type {\n",
              "        vertical-align: middle;\n",
              "    }\n",
              "\n",
              "    .dataframe tbody tr th {\n",
              "        vertical-align: top;\n",
              "    }\n",
              "\n",
              "    .dataframe thead th {\n",
              "        text-align: right;\n",
              "    }\n",
              "</style>\n",
              "<table border=\"1\" class=\"dataframe\">\n",
              "  <thead>\n",
              "    <tr style=\"text-align: right;\">\n",
              "      <th></th>\n",
              "      <th>user</th>\n",
              "      <th>song</th>\n",
              "      <th>play_count</th>\n",
              "    </tr>\n",
              "  </thead>\n",
              "  <tbody>\n",
              "    <tr>\n",
              "      <th>0</th>\n",
              "      <td>b80344d063b5ccb3212f76538f3d9e43d87dca9e</td>\n",
              "      <td>SOAKIMP12A8C130995</td>\n",
              "      <td>1</td>\n",
              "    </tr>\n",
              "    <tr>\n",
              "      <th>1</th>\n",
              "      <td>b80344d063b5ccb3212f76538f3d9e43d87dca9e</td>\n",
              "      <td>SOBBMDR12A8C13253B</td>\n",
              "      <td>2</td>\n",
              "    </tr>\n",
              "    <tr>\n",
              "      <th>2</th>\n",
              "      <td>b80344d063b5ccb3212f76538f3d9e43d87dca9e</td>\n",
              "      <td>SOBXHDL12A81C204C0</td>\n",
              "      <td>1</td>\n",
              "    </tr>\n",
              "    <tr>\n",
              "      <th>3</th>\n",
              "      <td>b80344d063b5ccb3212f76538f3d9e43d87dca9e</td>\n",
              "      <td>SOBYHAJ12A6701BF1D</td>\n",
              "      <td>1</td>\n",
              "    </tr>\n",
              "    <tr>\n",
              "      <th>4</th>\n",
              "      <td>b80344d063b5ccb3212f76538f3d9e43d87dca9e</td>\n",
              "      <td>SODACBL12A8C13C273</td>\n",
              "      <td>1</td>\n",
              "    </tr>\n",
              "  </tbody>\n",
              "</table>\n",
              "</div>"
            ],
            "text/plain": [
              "                                       user                song  play_count\n",
              "0  b80344d063b5ccb3212f76538f3d9e43d87dca9e  SOAKIMP12A8C130995           1\n",
              "1  b80344d063b5ccb3212f76538f3d9e43d87dca9e  SOBBMDR12A8C13253B           2\n",
              "2  b80344d063b5ccb3212f76538f3d9e43d87dca9e  SOBXHDL12A81C204C0           1\n",
              "3  b80344d063b5ccb3212f76538f3d9e43d87dca9e  SOBYHAJ12A6701BF1D           1\n",
              "4  b80344d063b5ccb3212f76538f3d9e43d87dca9e  SODACBL12A8C13C273           1"
            ]
          },
          "metadata": {
            "tags": []
          }
        }
      ]
    },
    {
      "cell_type": "code",
      "metadata": {
        "id": "Efum6Wi5V5gC",
        "colab": {
          "base_uri": "https://localhost:8080/",
          "height": 229
        },
        "outputId": "7ac37d63-d8d8-422c-a218-4c0e6d44a780"
      },
      "source": [
        "unique_track_metadata_df = track_metadata_df.groupby('song_id').max().reset_index()\n",
        "\n",
        "print('Number of rows after unique song Id treatment:', unique_track_metadata_df.shape[0])\n",
        "print('Number of unique songs:', len(unique_track_metadata_df.song_id.unique()))\n",
        "display(unique_track_metadata_df.head())"
      ],
      "execution_count": null,
      "outputs": [
        {
          "output_type": "stream",
          "text": [
            "Number of rows after unique song Id treatment: 999056\n",
            "Number of unique songs: 999056\n"
          ],
          "name": "stdout"
        },
        {
          "output_type": "display_data",
          "data": {
            "text/html": [
              "<div>\n",
              "<style scoped>\n",
              "    .dataframe tbody tr th:only-of-type {\n",
              "        vertical-align: middle;\n",
              "    }\n",
              "\n",
              "    .dataframe tbody tr th {\n",
              "        vertical-align: top;\n",
              "    }\n",
              "\n",
              "    .dataframe thead th {\n",
              "        text-align: right;\n",
              "    }\n",
              "</style>\n",
              "<table border=\"1\" class=\"dataframe\">\n",
              "  <thead>\n",
              "    <tr style=\"text-align: right;\">\n",
              "      <th></th>\n",
              "      <th>song_id</th>\n",
              "      <th>title</th>\n",
              "      <th>release</th>\n",
              "      <th>artist_name</th>\n",
              "      <th>year</th>\n",
              "    </tr>\n",
              "  </thead>\n",
              "  <tbody>\n",
              "    <tr>\n",
              "      <th>0</th>\n",
              "      <td>SOAAABI12A8C13615F</td>\n",
              "      <td>Afro Jazziac</td>\n",
              "      <td>To Birdland And Hurry</td>\n",
              "      <td>Herbie Mann</td>\n",
              "      <td>2000</td>\n",
              "    </tr>\n",
              "    <tr>\n",
              "      <th>1</th>\n",
              "      <td>SOAAABT12AC46860F0</td>\n",
              "      <td>Herre Gud Ditt Dyre Namn Og Ære</td>\n",
              "      <td>Som Den Gyldne Sol Frembryter</td>\n",
              "      <td>Bergen Big Band</td>\n",
              "      <td>0</td>\n",
              "    </tr>\n",
              "    <tr>\n",
              "      <th>2</th>\n",
              "      <td>SOAAABX12A8C13FEB2</td>\n",
              "      <td>N.Y.C. Remix</td>\n",
              "      <td>Paris Can´t Wait</td>\n",
              "      <td>Guardner</td>\n",
              "      <td>0</td>\n",
              "    </tr>\n",
              "    <tr>\n",
              "      <th>3</th>\n",
              "      <td>SOAAACR12A58A79456</td>\n",
              "      <td>Irresistible</td>\n",
              "      <td>Wowie Zowie</td>\n",
              "      <td>Superchumbo</td>\n",
              "      <td>2002</td>\n",
              "    </tr>\n",
              "    <tr>\n",
              "      <th>4</th>\n",
              "      <td>SOAAACY12A58A79663</td>\n",
              "      <td>Untitled 1</td>\n",
              "      <td>Pine Cone Temples</td>\n",
              "      <td>Thuja</td>\n",
              "      <td>0</td>\n",
              "    </tr>\n",
              "  </tbody>\n",
              "</table>\n",
              "</div>"
            ],
            "text/plain": [
              "              song_id                            title  ...      artist_name  year\n",
              "0  SOAAABI12A8C13615F                     Afro Jazziac  ...      Herbie Mann  2000\n",
              "1  SOAAABT12AC46860F0  Herre Gud Ditt Dyre Namn Og Ære  ...  Bergen Big Band     0\n",
              "2  SOAAABX12A8C13FEB2                     N.Y.C. Remix  ...         Guardner     0\n",
              "3  SOAAACR12A58A79456                     Irresistible  ...      Superchumbo  2002\n",
              "4  SOAAACY12A58A79663                       Untitled 1  ...            Thuja     0\n",
              "\n",
              "[5 rows x 5 columns]"
            ]
          },
          "metadata": {
            "tags": []
          }
        }
      ]
    },
    {
      "cell_type": "code",
      "metadata": {
        "id": "NKeOQ7_oXyS3"
      },
      "source": [
        "user_song_list_count = pd.merge(count_play_df, \n",
        "                                unique_track_metadata_df, how='left', \n",
        "                                left_on='song', \n",
        "                                right_on='song_id')\n",
        "user_song_list_count.rename(columns={'play_count':'listen_count'},inplace=True)\n",
        "del(user_song_list_count['song_id'])"
      ],
      "execution_count": null,
      "outputs": []
    },
    {
      "cell_type": "markdown",
      "metadata": {
        "id": "_RI2dHbWYkHr"
      },
      "source": [
        "# **Data Analysis**"
      ]
    },
    {
      "cell_type": "code",
      "metadata": {
        "id": "gLYA9n8QYL0J",
        "colab": {
          "base_uri": "https://localhost:8080/",
          "height": 285
        },
        "outputId": "8956b073-2c8b-420c-a4a2-75c4d74e1909"
      },
      "source": [
        "display(user_song_list_count.head())\n",
        "user_song_list_count.listen_count.describe().reset_index().T"
      ],
      "execution_count": null,
      "outputs": [
        {
          "output_type": "display_data",
          "data": {
            "text/html": [
              "<div>\n",
              "<style scoped>\n",
              "    .dataframe tbody tr th:only-of-type {\n",
              "        vertical-align: middle;\n",
              "    }\n",
              "\n",
              "    .dataframe tbody tr th {\n",
              "        vertical-align: top;\n",
              "    }\n",
              "\n",
              "    .dataframe thead th {\n",
              "        text-align: right;\n",
              "    }\n",
              "</style>\n",
              "<table border=\"1\" class=\"dataframe\">\n",
              "  <thead>\n",
              "    <tr style=\"text-align: right;\">\n",
              "      <th></th>\n",
              "      <th>user</th>\n",
              "      <th>song</th>\n",
              "      <th>listen_count</th>\n",
              "      <th>title</th>\n",
              "      <th>release</th>\n",
              "      <th>artist_name</th>\n",
              "      <th>year</th>\n",
              "    </tr>\n",
              "  </thead>\n",
              "  <tbody>\n",
              "    <tr>\n",
              "      <th>0</th>\n",
              "      <td>b80344d063b5ccb3212f76538f3d9e43d87dca9e</td>\n",
              "      <td>SOAKIMP12A8C130995</td>\n",
              "      <td>1</td>\n",
              "      <td>The Cove</td>\n",
              "      <td>Thicker Than Water</td>\n",
              "      <td>Jack Johnson</td>\n",
              "      <td>0</td>\n",
              "    </tr>\n",
              "    <tr>\n",
              "      <th>1</th>\n",
              "      <td>b80344d063b5ccb3212f76538f3d9e43d87dca9e</td>\n",
              "      <td>SOBBMDR12A8C13253B</td>\n",
              "      <td>2</td>\n",
              "      <td>Entre Dos Aguas</td>\n",
              "      <td>Flamenco Para Niños</td>\n",
              "      <td>Paco De Lucia</td>\n",
              "      <td>1976</td>\n",
              "    </tr>\n",
              "    <tr>\n",
              "      <th>2</th>\n",
              "      <td>b80344d063b5ccb3212f76538f3d9e43d87dca9e</td>\n",
              "      <td>SOBXHDL12A81C204C0</td>\n",
              "      <td>1</td>\n",
              "      <td>Stronger</td>\n",
              "      <td>Graduation</td>\n",
              "      <td>Kanye West</td>\n",
              "      <td>2007</td>\n",
              "    </tr>\n",
              "    <tr>\n",
              "      <th>3</th>\n",
              "      <td>b80344d063b5ccb3212f76538f3d9e43d87dca9e</td>\n",
              "      <td>SOBYHAJ12A6701BF1D</td>\n",
              "      <td>1</td>\n",
              "      <td>Constellations</td>\n",
              "      <td>In Between Dreams</td>\n",
              "      <td>Jack Johnson</td>\n",
              "      <td>2005</td>\n",
              "    </tr>\n",
              "    <tr>\n",
              "      <th>4</th>\n",
              "      <td>b80344d063b5ccb3212f76538f3d9e43d87dca9e</td>\n",
              "      <td>SODACBL12A8C13C273</td>\n",
              "      <td>1</td>\n",
              "      <td>Learn To Fly</td>\n",
              "      <td>There Is Nothing Left To Lose</td>\n",
              "      <td>Foo Fighters</td>\n",
              "      <td>1999</td>\n",
              "    </tr>\n",
              "  </tbody>\n",
              "</table>\n",
              "</div>"
            ],
            "text/plain": [
              "                                       user  ...  year\n",
              "0  b80344d063b5ccb3212f76538f3d9e43d87dca9e  ...     0\n",
              "1  b80344d063b5ccb3212f76538f3d9e43d87dca9e  ...  1976\n",
              "2  b80344d063b5ccb3212f76538f3d9e43d87dca9e  ...  2007\n",
              "3  b80344d063b5ccb3212f76538f3d9e43d87dca9e  ...  2005\n",
              "4  b80344d063b5ccb3212f76538f3d9e43d87dca9e  ...  1999\n",
              "\n",
              "[5 rows x 7 columns]"
            ]
          },
          "metadata": {
            "tags": []
          }
        },
        {
          "output_type": "execute_result",
          "data": {
            "text/html": [
              "<div>\n",
              "<style scoped>\n",
              "    .dataframe tbody tr th:only-of-type {\n",
              "        vertical-align: middle;\n",
              "    }\n",
              "\n",
              "    .dataframe tbody tr th {\n",
              "        vertical-align: top;\n",
              "    }\n",
              "\n",
              "    .dataframe thead th {\n",
              "        text-align: right;\n",
              "    }\n",
              "</style>\n",
              "<table border=\"1\" class=\"dataframe\">\n",
              "  <thead>\n",
              "    <tr style=\"text-align: right;\">\n",
              "      <th></th>\n",
              "      <th>0</th>\n",
              "      <th>1</th>\n",
              "      <th>2</th>\n",
              "      <th>3</th>\n",
              "      <th>4</th>\n",
              "      <th>5</th>\n",
              "      <th>6</th>\n",
              "      <th>7</th>\n",
              "    </tr>\n",
              "  </thead>\n",
              "  <tbody>\n",
              "    <tr>\n",
              "      <th>index</th>\n",
              "      <td>count</td>\n",
              "      <td>mean</td>\n",
              "      <td>std</td>\n",
              "      <td>min</td>\n",
              "      <td>25%</td>\n",
              "      <td>50%</td>\n",
              "      <td>75%</td>\n",
              "      <td>max</td>\n",
              "    </tr>\n",
              "    <tr>\n",
              "      <th>listen_count</th>\n",
              "      <td>2e+06</td>\n",
              "      <td>3.04548</td>\n",
              "      <td>6.57972</td>\n",
              "      <td>1</td>\n",
              "      <td>1</td>\n",
              "      <td>1</td>\n",
              "      <td>3</td>\n",
              "      <td>2213</td>\n",
              "    </tr>\n",
              "  </tbody>\n",
              "</table>\n",
              "</div>"
            ],
            "text/plain": [
              "                  0        1        2    3    4    5    6     7\n",
              "index         count     mean      std  min  25%  50%  75%   max\n",
              "listen_count  2e+06  3.04548  6.57972    1    1    1    3  2213"
            ]
          },
          "metadata": {
            "tags": []
          },
          "execution_count": 12
        }
      ]
    },
    {
      "cell_type": "code",
      "metadata": {
        "id": "XY-nfVXUYP2t",
        "colab": {
          "base_uri": "https://localhost:8080/",
          "height": 123
        },
        "outputId": "a1710a8c-8718-43b8-cd65-74a985a5d6b4"
      },
      "source": [
        "print('{:d} users, {:.2%} of total play counts, listening a single more than 200 times'.format(\n",
        "    count_play_df.user[count_play_df.play_count>200].unique().shape[0],\n",
        "    count_play_df.play_count[count_play_df.play_count>200].count()/count_play_df.shape[0]))\n",
        "display(count_play_df.play_count[count_play_df.play_count>200].describe().reset_index().T)"
      ],
      "execution_count": null,
      "outputs": [
        {
          "output_type": "stream",
          "text": [
            "118 users, 0.01% of total play counts, listening a single more than 200 times\n"
          ],
          "name": "stdout"
        },
        {
          "output_type": "display_data",
          "data": {
            "text/html": [
              "<div>\n",
              "<style scoped>\n",
              "    .dataframe tbody tr th:only-of-type {\n",
              "        vertical-align: middle;\n",
              "    }\n",
              "\n",
              "    .dataframe tbody tr th {\n",
              "        vertical-align: top;\n",
              "    }\n",
              "\n",
              "    .dataframe thead th {\n",
              "        text-align: right;\n",
              "    }\n",
              "</style>\n",
              "<table border=\"1\" class=\"dataframe\">\n",
              "  <thead>\n",
              "    <tr style=\"text-align: right;\">\n",
              "      <th></th>\n",
              "      <th>0</th>\n",
              "      <th>1</th>\n",
              "      <th>2</th>\n",
              "      <th>3</th>\n",
              "      <th>4</th>\n",
              "      <th>5</th>\n",
              "      <th>6</th>\n",
              "      <th>7</th>\n",
              "    </tr>\n",
              "  </thead>\n",
              "  <tbody>\n",
              "    <tr>\n",
              "      <th>index</th>\n",
              "      <td>count</td>\n",
              "      <td>mean</td>\n",
              "      <td>std</td>\n",
              "      <td>min</td>\n",
              "      <td>25%</td>\n",
              "      <td>50%</td>\n",
              "      <td>75%</td>\n",
              "      <td>max</td>\n",
              "    </tr>\n",
              "    <tr>\n",
              "      <th>play_count</th>\n",
              "      <td>140</td>\n",
              "      <td>327.107</td>\n",
              "      <td>209.115</td>\n",
              "      <td>201</td>\n",
              "      <td>225</td>\n",
              "      <td>267</td>\n",
              "      <td>353.75</td>\n",
              "      <td>2213</td>\n",
              "    </tr>\n",
              "  </tbody>\n",
              "</table>\n",
              "</div>"
            ],
            "text/plain": [
              "                0        1        2    3    4    5       6     7\n",
              "index       count     mean      std  min  25%  50%     75%   max\n",
              "play_count    140  327.107  209.115  201  225  267  353.75  2213"
            ]
          },
          "metadata": {
            "tags": []
          }
        }
      ]
    },
    {
      "cell_type": "markdown",
      "metadata": {
        "id": "Jc91wNizZ1GQ"
      },
      "source": [
        "# **Popularity based system**"
      ]
    },
    {
      "cell_type": "code",
      "metadata": {
        "id": "DcPy-UaFq9zT"
      },
      "source": [
        "class popularity_recommender_py():\n",
        "    def __init__(self):\n",
        "        self.train_data = None\n",
        "        self.user_id = None\n",
        "        self.item_id = None\n",
        "        self.popularity_recommendations = None\n",
        "    def create(self, train_data, user_id, item_id):\n",
        "        self.train_data = train_data\n",
        "        self.user_id = user_id\n",
        "        self.item_id = item_id\n",
        "\n",
        "        train_data_grouped = train_data.groupby([self.item_id]).agg({self.user_id: 'count'}).reset_index()\n",
        "        train_data_grouped.rename(columns = {'user_id': 'score'},inplace=True)\n",
        "        train_data_sort = train_data_grouped.sort_values(['score', self.item_id], ascending = [0,1])\n",
        "        train_data_sort['Rank'] = train_data_sort['score'].rank(ascending=0, method='first')\n",
        "        self.popularity_recommendations = train_data_sort.head(10)\n",
        "    def recommend(self, user_id):    \n",
        "        user_recommendations = self.popularity_recommendations\n",
        "        user_recommendations['user_id'] = user_id\n",
        "        cols = user_recommendations.columns.tolist()\n",
        "        cols = cols[-1:] + cols[:-1]\n",
        "        user_recommendations = user_recommendations[cols]\n",
        "        return user_recommendations\n"
      ],
      "execution_count": null,
      "outputs": []
    },
    {
      "cell_type": "code",
      "metadata": {
        "id": "9wsGNNM4Zhco"
      },
      "source": [
        "def create_popularity_recommendation(train_data, user_id, item_id, n=10):\n",
        "    #Get a count of user_ids for each unique song as recommendation score\n",
        "    train_data_grouped = train_data.groupby([item_id]).agg({user_id: 'count'}).reset_index()\n",
        "    train_data_grouped.rename(columns = {user_id: 'score'},inplace=True)\n",
        "    \n",
        "    #Sort the songs based upon recommendation score\n",
        "    train_data_sort = train_data_grouped.sort_values(['score', item_id], ascending = [0,1])\n",
        "    \n",
        "    #Generate a recommendation rank based upon score\n",
        "    train_data_sort['Rank'] = train_data_sort.score.rank(ascending=0, method='first')\n",
        "        \n",
        "    #Get the top n recommendations\n",
        "    popularity_recommendations = train_data_sort.head(n)\n",
        "    return popularity_recommendations"
      ],
      "execution_count": null,
      "outputs": []
    },
    {
      "cell_type": "code",
      "metadata": {
        "id": "_l2VJYsLaGLB",
        "colab": {
          "base_uri": "https://localhost:8080/",
          "height": 491
        },
        "outputId": "6acca11c-b1ec-498a-f390-39bbfb740a6e"
      },
      "source": [
        "recommendations = create_popularity_recommendation(user_song_list_count,'user','title', 15)\n",
        "display(recommendations)"
      ],
      "execution_count": null,
      "outputs": [
        {
          "output_type": "display_data",
          "data": {
            "text/html": [
              "<div>\n",
              "<style scoped>\n",
              "    .dataframe tbody tr th:only-of-type {\n",
              "        vertical-align: middle;\n",
              "    }\n",
              "\n",
              "    .dataframe tbody tr th {\n",
              "        vertical-align: top;\n",
              "    }\n",
              "\n",
              "    .dataframe thead th {\n",
              "        text-align: right;\n",
              "    }\n",
              "</style>\n",
              "<table border=\"1\" class=\"dataframe\">\n",
              "  <thead>\n",
              "    <tr style=\"text-align: right;\">\n",
              "      <th></th>\n",
              "      <th>title</th>\n",
              "      <th>score</th>\n",
              "      <th>Rank</th>\n",
              "    </tr>\n",
              "  </thead>\n",
              "  <tbody>\n",
              "    <tr>\n",
              "      <th>6837</th>\n",
              "      <td>Sehr kosmisch</td>\n",
              "      <td>8277</td>\n",
              "      <td>1.0</td>\n",
              "    </tr>\n",
              "    <tr>\n",
              "      <th>8726</th>\n",
              "      <td>Undo</td>\n",
              "      <td>7032</td>\n",
              "      <td>2.0</td>\n",
              "    </tr>\n",
              "    <tr>\n",
              "      <th>1965</th>\n",
              "      <td>Dog Days Are Over (Radio Edit)</td>\n",
              "      <td>6949</td>\n",
              "      <td>3.0</td>\n",
              "    </tr>\n",
              "    <tr>\n",
              "      <th>9497</th>\n",
              "      <td>You're The One</td>\n",
              "      <td>6729</td>\n",
              "      <td>4.0</td>\n",
              "    </tr>\n",
              "    <tr>\n",
              "      <th>6499</th>\n",
              "      <td>Revelry</td>\n",
              "      <td>6145</td>\n",
              "      <td>5.0</td>\n",
              "    </tr>\n",
              "    <tr>\n",
              "      <th>6826</th>\n",
              "      <td>Secrets</td>\n",
              "      <td>5841</td>\n",
              "      <td>6.0</td>\n",
              "    </tr>\n",
              "    <tr>\n",
              "      <th>3438</th>\n",
              "      <td>Horn Concerto No. 4 in E flat K495: II. Romanc...</td>\n",
              "      <td>5385</td>\n",
              "      <td>7.0</td>\n",
              "    </tr>\n",
              "    <tr>\n",
              "      <th>2596</th>\n",
              "      <td>Fireflies</td>\n",
              "      <td>4795</td>\n",
              "      <td>8.0</td>\n",
              "    </tr>\n",
              "    <tr>\n",
              "      <th>3323</th>\n",
              "      <td>Hey_ Soul Sister</td>\n",
              "      <td>4758</td>\n",
              "      <td>9.0</td>\n",
              "    </tr>\n",
              "    <tr>\n",
              "      <th>8495</th>\n",
              "      <td>Tive Sim</td>\n",
              "      <td>4548</td>\n",
              "      <td>10.0</td>\n",
              "    </tr>\n",
              "    <tr>\n",
              "      <th>8781</th>\n",
              "      <td>Use Somebody</td>\n",
              "      <td>3976</td>\n",
              "      <td>11.0</td>\n",
              "    </tr>\n",
              "    <tr>\n",
              "      <th>5721</th>\n",
              "      <td>OMG</td>\n",
              "      <td>3947</td>\n",
              "      <td>12.0</td>\n",
              "    </tr>\n",
              "    <tr>\n",
              "      <th>2120</th>\n",
              "      <td>Drop The World</td>\n",
              "      <td>3879</td>\n",
              "      <td>13.0</td>\n",
              "    </tr>\n",
              "    <tr>\n",
              "      <th>5000</th>\n",
              "      <td>Marry Me</td>\n",
              "      <td>3578</td>\n",
              "      <td>14.0</td>\n",
              "    </tr>\n",
              "    <tr>\n",
              "      <th>1265</th>\n",
              "      <td>Canada</td>\n",
              "      <td>3526</td>\n",
              "      <td>15.0</td>\n",
              "    </tr>\n",
              "  </tbody>\n",
              "</table>\n",
              "</div>"
            ],
            "text/plain": [
              "                                                  title  score  Rank\n",
              "6837                                      Sehr kosmisch   8277   1.0\n",
              "8726                                               Undo   7032   2.0\n",
              "1965                     Dog Days Are Over (Radio Edit)   6949   3.0\n",
              "9497                                     You're The One   6729   4.0\n",
              "6499                                            Revelry   6145   5.0\n",
              "6826                                            Secrets   5841   6.0\n",
              "3438  Horn Concerto No. 4 in E flat K495: II. Romanc...   5385   7.0\n",
              "2596                                          Fireflies   4795   8.0\n",
              "3323                                   Hey_ Soul Sister   4758   9.0\n",
              "8495                                           Tive Sim   4548  10.0\n",
              "8781                                       Use Somebody   3976  11.0\n",
              "5721                                                OMG   3947  12.0\n",
              "2120                                     Drop The World   3879  13.0\n",
              "5000                                           Marry Me   3578  14.0\n",
              "1265                                             Canada   3526  15.0"
            ]
          },
          "metadata": {
            "tags": []
          }
        }
      ]
    },
    {
      "cell_type": "code",
      "metadata": {
        "id": "Z_rgpsHzacJh",
        "colab": {
          "base_uri": "https://localhost:8080/",
          "height": 343
        },
        "outputId": "62a68e1e-2314-47a5-e809-089afe9369fd"
      },
      "source": [
        "display(create_popularity_recommendation(user_song_list_count,'user','artist_name', 10))"
      ],
      "execution_count": null,
      "outputs": [
        {
          "output_type": "display_data",
          "data": {
            "text/html": [
              "<div>\n",
              "<style scoped>\n",
              "    .dataframe tbody tr th:only-of-type {\n",
              "        vertical-align: middle;\n",
              "    }\n",
              "\n",
              "    .dataframe tbody tr th {\n",
              "        vertical-align: top;\n",
              "    }\n",
              "\n",
              "    .dataframe thead th {\n",
              "        text-align: right;\n",
              "    }\n",
              "</style>\n",
              "<table border=\"1\" class=\"dataframe\">\n",
              "  <thead>\n",
              "    <tr style=\"text-align: right;\">\n",
              "      <th></th>\n",
              "      <th>artist_name</th>\n",
              "      <th>score</th>\n",
              "      <th>Rank</th>\n",
              "    </tr>\n",
              "  </thead>\n",
              "  <tbody>\n",
              "    <tr>\n",
              "      <th>649</th>\n",
              "      <td>Coldplay</td>\n",
              "      <td>29422</td>\n",
              "      <td>1.0</td>\n",
              "    </tr>\n",
              "    <tr>\n",
              "      <th>2850</th>\n",
              "      <td>The Black Keys</td>\n",
              "      <td>19862</td>\n",
              "      <td>2.0</td>\n",
              "    </tr>\n",
              "    <tr>\n",
              "      <th>1651</th>\n",
              "      <td>Kings Of Leon</td>\n",
              "      <td>18747</td>\n",
              "      <td>3.0</td>\n",
              "    </tr>\n",
              "    <tr>\n",
              "      <th>1107</th>\n",
              "      <td>Florence + The Machine</td>\n",
              "      <td>18112</td>\n",
              "      <td>4.0</td>\n",
              "    </tr>\n",
              "    <tr>\n",
              "      <th>1370</th>\n",
              "      <td>Jack Johnson</td>\n",
              "      <td>17801</td>\n",
              "      <td>5.0</td>\n",
              "    </tr>\n",
              "    <tr>\n",
              "      <th>2946</th>\n",
              "      <td>The Killers</td>\n",
              "      <td>16063</td>\n",
              "      <td>6.0</td>\n",
              "    </tr>\n",
              "    <tr>\n",
              "      <th>2374</th>\n",
              "      <td>Radiohead</td>\n",
              "      <td>14890</td>\n",
              "      <td>7.0</td>\n",
              "    </tr>\n",
              "    <tr>\n",
              "      <th>736</th>\n",
              "      <td>Daft Punk</td>\n",
              "      <td>14715</td>\n",
              "      <td>8.0</td>\n",
              "    </tr>\n",
              "    <tr>\n",
              "      <th>2073</th>\n",
              "      <td>Muse</td>\n",
              "      <td>14005</td>\n",
              "      <td>9.0</td>\n",
              "    </tr>\n",
              "    <tr>\n",
              "      <th>1554</th>\n",
              "      <td>Justin Bieber</td>\n",
              "      <td>13959</td>\n",
              "      <td>10.0</td>\n",
              "    </tr>\n",
              "  </tbody>\n",
              "</table>\n",
              "</div>"
            ],
            "text/plain": [
              "                 artist_name  score  Rank\n",
              "649                 Coldplay  29422   1.0\n",
              "2850          The Black Keys  19862   2.0\n",
              "1651           Kings Of Leon  18747   3.0\n",
              "1107  Florence + The Machine  18112   4.0\n",
              "1370            Jack Johnson  17801   5.0\n",
              "2946             The Killers  16063   6.0\n",
              "2374               Radiohead  14890   7.0\n",
              "736                Daft Punk  14715   8.0\n",
              "2073                    Muse  14005   9.0\n",
              "1554           Justin Bieber  13959  10.0"
            ]
          },
          "metadata": {
            "tags": []
          }
        }
      ]
    },
    {
      "cell_type": "markdown",
      "metadata": {
        "id": "FRPPpqj8axWJ"
      },
      "source": [
        "# **Collaborative Filtering**"
      ]
    },
    {
      "cell_type": "markdown",
      "metadata": {
        "id": "ibNOkXUIa3-v"
      },
      "source": [
        "**Find Similar Songs**"
      ]
    },
    {
      "cell_type": "code",
      "metadata": {
        "id": "JaPtd2zVbV-E"
      },
      "source": [
        "\n",
        "class item_similarity_recommender_py():\n",
        "    def __init__(self):\n",
        "        self.train_data = None\n",
        "        self.user_id = None\n",
        "        self.item_id = None\n",
        "        self.cooccurence_matrix = None\n",
        "        self.songs_dict = None\n",
        "        self.rev_songs_dict = None\n",
        "        self.item_similarity_recommendations = None\n",
        "        \n",
        "    def get_user_items(self, user):\n",
        "        user_data = self.train_data[self.train_data[self.user_id] == user]\n",
        "        user_items = list(user_data[self.item_id].unique())\n",
        "        return user_items\n",
        "        \n",
        "    def get_item_users(self, item):\n",
        "        item_data = self.train_data[self.train_data[self.item_id] == item]\n",
        "        item_users = set(item_data[self.user_id].unique())\n",
        "        return item_users\n",
        "        \n",
        "    def get_all_items_train_data(self):\n",
        "        all_items = list(self.train_data[self.item_id].unique())\n",
        "        return all_items\n",
        "\n",
        "    def construct_cooccurence_matrix(self, user_songs, all_songs):\n",
        "        user_songs_users = []        \n",
        "        for i in range(0, len(user_songs)):\n",
        "            user_songs_users.append(self.get_item_users(user_songs[i])) \n",
        "        cooccurence_matrix = np.matrix(np.zeros(shape=(len(user_songs), len(all_songs))), float)\n",
        "        for i in range(0,len(all_songs)):\n",
        "            songs_i_data = self.train_data[self.train_data[self.item_id] == all_songs[i]]\n",
        "            users_i = set(songs_i_data[self.user_id].unique())\n",
        "            for j in range(0,len(user_songs)):       \n",
        "                users_j = user_songs_users[j]\n",
        "                users_intersection = users_i.intersection(users_j)\n",
        "                if len(users_intersection) != 0:\n",
        "                    users_union = users_i.union(users_j)\n",
        "                    cooccurence_matrix[j,i] = float(len(users_intersection))/float(len(users_union))\n",
        "                else:\n",
        "                    cooccurence_matrix[j,i] = 0\n",
        "        return cooccurence_matrix\n",
        "\n",
        "    def generate_top_recommendations(self, user, cooccurence_matrix, all_songs, user_songs):\n",
        "        print(\"Non zero values in cooccurence_matrix :%d\" % np.count_nonzero(cooccurence_matrix))\n",
        "        user_sim_scores = cooccurence_matrix.sum(axis=0)/float(cooccurence_matrix.shape[0])\n",
        "        user_sim_scores = np.array(user_sim_scores)[0].tolist()\n",
        "        sort_index = sorted(((e,i) for i,e in enumerate(list(user_sim_scores))), reverse=True)\n",
        "        columns = ['user_id', 'song', 'score', 'rank']\n",
        "        df = pd.DataFrame(columns=columns)\n",
        "        rank = 1 \n",
        "        for i in range(0,len(sort_index)):\n",
        "            if ~np.isnan(sort_index[i][0]) and all_songs[sort_index[i][1]] not in user_songs and rank <= 10:\n",
        "                df.loc[len(df)]=[user,all_songs[sort_index[i][1]],sort_index[i][0],rank]\n",
        "                rank = rank+1\n",
        "\n",
        "        if df.shape[0] == 0:\n",
        "            print(\"The current user has no songs for training the item similarity based recommendation model.\")\n",
        "            return -1\n",
        "        else:\n",
        "            return df\n",
        "    def create(self, train_data, user_id, item_id):\n",
        "        self.train_data = train_data\n",
        "        self.user_id = user_id\n",
        "        self.item_id = item_id\n",
        "\n",
        "    def recommend(self, user):\n",
        "        user_songs = self.get_user_items(user)    \n",
        "        print(\"No. of unique songs for the user: %d\" % len(user_songs))\n",
        "        all_songs = self.get_all_items_train_data()\n",
        "        print(\"no. of unique songs in the training set: %d\" % len(all_songs))\n",
        "        cooccurence_matrix = self.construct_cooccurence_matrix(user_songs, all_songs)\n",
        "        df_recommendations = self.generate_top_recommendations(user, cooccurence_matrix, all_songs, user_songs)\n",
        "        return df_recommendations\n",
        "    def get_similar_items(self, item_list):\n",
        "        user_songs = item_list\n",
        "        all_songs = self.get_all_items_train_data()\n",
        "        print(\"no. of unique songs in the training set: %d\" % len(all_songs))\n",
        "        cooccurence_matrix = self.construct_cooccurence_matrix(user_songs, all_songs)\n",
        "        user = \"\"\n",
        "        df_recommendations = self.generate_top_recommendations(user, cooccurence_matrix, all_songs, user_songs)\n",
        "        return df_recommendations"
      ],
      "execution_count": null,
      "outputs": []
    },
    {
      "cell_type": "code",
      "metadata": {
        "id": "oGl68issa97i",
        "colab": {
          "base_uri": "https://localhost:8080/",
          "height": 212
        },
        "outputId": "4b6584de-c1bb-402f-96de-baaf7bd831a2"
      },
      "source": [
        "total_play_count = sum(user_song_list_count.listen_count)\n",
        "play_count = user_song_list_count[['song', 'listen_count']].groupby('song').sum().\\\n",
        "             sort_values(by='listen_count',ascending=False).head(5000)\n",
        "\n",
        "print('5,000 most popular songs represents {:3.2%} of total listen.'.format(float(play_count.sum())/total_play_count))\n",
        "\n",
        "song_subset = list(play_count.index[:5000])\n",
        "user_subset = list(user_song_list_count.loc[user_song_list_count.song.isin(song_subset), 'user'].unique())\n",
        "user_song_list_count_sub = user_song_list_count[user_song_list_count.song.isin(song_subset)]\n",
        "display(user_song_list_count_sub.head())"
      ],
      "execution_count": null,
      "outputs": [
        {
          "output_type": "stream",
          "text": [
            "5,000 most popular songs represents 81.88% of total listen.\n"
          ],
          "name": "stdout"
        },
        {
          "output_type": "display_data",
          "data": {
            "text/html": [
              "<div>\n",
              "<style scoped>\n",
              "    .dataframe tbody tr th:only-of-type {\n",
              "        vertical-align: middle;\n",
              "    }\n",
              "\n",
              "    .dataframe tbody tr th {\n",
              "        vertical-align: top;\n",
              "    }\n",
              "\n",
              "    .dataframe thead th {\n",
              "        text-align: right;\n",
              "    }\n",
              "</style>\n",
              "<table border=\"1\" class=\"dataframe\">\n",
              "  <thead>\n",
              "    <tr style=\"text-align: right;\">\n",
              "      <th></th>\n",
              "      <th>user</th>\n",
              "      <th>song</th>\n",
              "      <th>listen_count</th>\n",
              "      <th>title</th>\n",
              "      <th>release</th>\n",
              "      <th>artist_name</th>\n",
              "      <th>year</th>\n",
              "    </tr>\n",
              "  </thead>\n",
              "  <tbody>\n",
              "    <tr>\n",
              "      <th>0</th>\n",
              "      <td>b80344d063b5ccb3212f76538f3d9e43d87dca9e</td>\n",
              "      <td>SOAKIMP12A8C130995</td>\n",
              "      <td>1</td>\n",
              "      <td>The Cove</td>\n",
              "      <td>Thicker Than Water</td>\n",
              "      <td>Jack Johnson</td>\n",
              "      <td>0</td>\n",
              "    </tr>\n",
              "    <tr>\n",
              "      <th>1</th>\n",
              "      <td>b80344d063b5ccb3212f76538f3d9e43d87dca9e</td>\n",
              "      <td>SOBBMDR12A8C13253B</td>\n",
              "      <td>2</td>\n",
              "      <td>Entre Dos Aguas</td>\n",
              "      <td>Flamenco Para Niños</td>\n",
              "      <td>Paco De Lucia</td>\n",
              "      <td>1976</td>\n",
              "    </tr>\n",
              "    <tr>\n",
              "      <th>2</th>\n",
              "      <td>b80344d063b5ccb3212f76538f3d9e43d87dca9e</td>\n",
              "      <td>SOBXHDL12A81C204C0</td>\n",
              "      <td>1</td>\n",
              "      <td>Stronger</td>\n",
              "      <td>Graduation</td>\n",
              "      <td>Kanye West</td>\n",
              "      <td>2007</td>\n",
              "    </tr>\n",
              "    <tr>\n",
              "      <th>3</th>\n",
              "      <td>b80344d063b5ccb3212f76538f3d9e43d87dca9e</td>\n",
              "      <td>SOBYHAJ12A6701BF1D</td>\n",
              "      <td>1</td>\n",
              "      <td>Constellations</td>\n",
              "      <td>In Between Dreams</td>\n",
              "      <td>Jack Johnson</td>\n",
              "      <td>2005</td>\n",
              "    </tr>\n",
              "    <tr>\n",
              "      <th>4</th>\n",
              "      <td>b80344d063b5ccb3212f76538f3d9e43d87dca9e</td>\n",
              "      <td>SODACBL12A8C13C273</td>\n",
              "      <td>1</td>\n",
              "      <td>Learn To Fly</td>\n",
              "      <td>There Is Nothing Left To Lose</td>\n",
              "      <td>Foo Fighters</td>\n",
              "      <td>1999</td>\n",
              "    </tr>\n",
              "  </tbody>\n",
              "</table>\n",
              "</div>"
            ],
            "text/plain": [
              "                                       user  ...  year\n",
              "0  b80344d063b5ccb3212f76538f3d9e43d87dca9e  ...     0\n",
              "1  b80344d063b5ccb3212f76538f3d9e43d87dca9e  ...  1976\n",
              "2  b80344d063b5ccb3212f76538f3d9e43d87dca9e  ...  2007\n",
              "3  b80344d063b5ccb3212f76538f3d9e43d87dca9e  ...  2005\n",
              "4  b80344d063b5ccb3212f76538f3d9e43d87dca9e  ...  1999\n",
              "\n",
              "[5 rows x 7 columns]"
            ]
          },
          "metadata": {
            "tags": []
          }
        }
      ]
    },
    {
      "cell_type": "code",
      "metadata": {
        "id": "wPJRWSC0l3y_",
        "colab": {
          "base_uri": "https://localhost:8080/",
          "height": 394
        },
        "outputId": "41175017-1d6e-4832-9fd2-21616473d5c0"
      },
      "source": [
        "is_model = item_similarity_recommender_py()\n",
        "is_model.create(user_song_list_count_sub, 'user', 'title')\n",
        "user_id = list(user_song_list_count_sub.user)[7]\n",
        "user_items = is_model.get_user_items(user_id)\n",
        "\n",
        "#Recommend songs for the user using personalized model\n",
        "is_model.recommend(user_id)"
      ],
      "execution_count": null,
      "outputs": [
        {
          "output_type": "stream",
          "text": [
            "No. of unique songs for the user: 33\n",
            "no. of unique songs in the training set: 4867\n",
            "Non zero values in cooccurence_matrix :120655\n"
          ],
          "name": "stdout"
        },
        {
          "output_type": "execute_result",
          "data": {
            "text/html": [
              "<div>\n",
              "<style scoped>\n",
              "    .dataframe tbody tr th:only-of-type {\n",
              "        vertical-align: middle;\n",
              "    }\n",
              "\n",
              "    .dataframe tbody tr th {\n",
              "        vertical-align: top;\n",
              "    }\n",
              "\n",
              "    .dataframe thead th {\n",
              "        text-align: right;\n",
              "    }\n",
              "</style>\n",
              "<table border=\"1\" class=\"dataframe\">\n",
              "  <thead>\n",
              "    <tr style=\"text-align: right;\">\n",
              "      <th></th>\n",
              "      <th>user_id</th>\n",
              "      <th>song</th>\n",
              "      <th>score</th>\n",
              "      <th>rank</th>\n",
              "    </tr>\n",
              "  </thead>\n",
              "  <tbody>\n",
              "    <tr>\n",
              "      <th>0</th>\n",
              "      <td>b80344d063b5ccb3212f76538f3d9e43d87dca9e</td>\n",
              "      <td>Quiet Houses</td>\n",
              "      <td>0.044710</td>\n",
              "      <td>1</td>\n",
              "    </tr>\n",
              "    <tr>\n",
              "      <th>1</th>\n",
              "      <td>b80344d063b5ccb3212f76538f3d9e43d87dca9e</td>\n",
              "      <td>Meadowlarks</td>\n",
              "      <td>0.043836</td>\n",
              "      <td>2</td>\n",
              "    </tr>\n",
              "    <tr>\n",
              "      <th>2</th>\n",
              "      <td>b80344d063b5ccb3212f76538f3d9e43d87dca9e</td>\n",
              "      <td>Heard Them Stirring</td>\n",
              "      <td>0.042740</td>\n",
              "      <td>3</td>\n",
              "    </tr>\n",
              "    <tr>\n",
              "      <th>3</th>\n",
              "      <td>b80344d063b5ccb3212f76538f3d9e43d87dca9e</td>\n",
              "      <td>Tiger Mountain Peasant Song</td>\n",
              "      <td>0.041485</td>\n",
              "      <td>4</td>\n",
              "    </tr>\n",
              "    <tr>\n",
              "      <th>4</th>\n",
              "      <td>b80344d063b5ccb3212f76538f3d9e43d87dca9e</td>\n",
              "      <td>Sun It Rises</td>\n",
              "      <td>0.040973</td>\n",
              "      <td>5</td>\n",
              "    </tr>\n",
              "    <tr>\n",
              "      <th>5</th>\n",
              "      <td>b80344d063b5ccb3212f76538f3d9e43d87dca9e</td>\n",
              "      <td>Your Protector</td>\n",
              "      <td>0.039942</td>\n",
              "      <td>6</td>\n",
              "    </tr>\n",
              "    <tr>\n",
              "      <th>6</th>\n",
              "      <td>b80344d063b5ccb3212f76538f3d9e43d87dca9e</td>\n",
              "      <td>Oliver James</td>\n",
              "      <td>0.039287</td>\n",
              "      <td>7</td>\n",
              "    </tr>\n",
              "    <tr>\n",
              "      <th>7</th>\n",
              "      <td>b80344d063b5ccb3212f76538f3d9e43d87dca9e</td>\n",
              "      <td>Great Indoors</td>\n",
              "      <td>0.036765</td>\n",
              "      <td>8</td>\n",
              "    </tr>\n",
              "    <tr>\n",
              "      <th>8</th>\n",
              "      <td>b80344d063b5ccb3212f76538f3d9e43d87dca9e</td>\n",
              "      <td>White Winter Hymnal</td>\n",
              "      <td>0.036345</td>\n",
              "      <td>9</td>\n",
              "    </tr>\n",
              "    <tr>\n",
              "      <th>9</th>\n",
              "      <td>b80344d063b5ccb3212f76538f3d9e43d87dca9e</td>\n",
              "      <td>If I Could</td>\n",
              "      <td>0.034576</td>\n",
              "      <td>10</td>\n",
              "    </tr>\n",
              "  </tbody>\n",
              "</table>\n",
              "</div>"
            ],
            "text/plain": [
              "                                    user_id  ... rank\n",
              "0  b80344d063b5ccb3212f76538f3d9e43d87dca9e  ...    1\n",
              "1  b80344d063b5ccb3212f76538f3d9e43d87dca9e  ...    2\n",
              "2  b80344d063b5ccb3212f76538f3d9e43d87dca9e  ...    3\n",
              "3  b80344d063b5ccb3212f76538f3d9e43d87dca9e  ...    4\n",
              "4  b80344d063b5ccb3212f76538f3d9e43d87dca9e  ...    5\n",
              "5  b80344d063b5ccb3212f76538f3d9e43d87dca9e  ...    6\n",
              "6  b80344d063b5ccb3212f76538f3d9e43d87dca9e  ...    7\n",
              "7  b80344d063b5ccb3212f76538f3d9e43d87dca9e  ...    8\n",
              "8  b80344d063b5ccb3212f76538f3d9e43d87dca9e  ...    9\n",
              "9  b80344d063b5ccb3212f76538f3d9e43d87dca9e  ...   10\n",
              "\n",
              "[10 rows x 4 columns]"
            ]
          },
          "metadata": {
            "tags": []
          },
          "execution_count": 20
        }
      ]
    },
    {
      "cell_type": "code",
      "metadata": {
        "id": "jgnDtivLoPZC",
        "colab": {
          "base_uri": "https://localhost:8080/",
          "height": 106
        },
        "outputId": "b2e746be-b8ce-4513-d7b2-1220a954aa1a"
      },
      "source": [
        "display(user_song_list_count_sub[(user_song_list_count_sub.user==user_id) & (user_song_list_count_sub.listen_count>5)])"
      ],
      "execution_count": null,
      "outputs": [
        {
          "output_type": "display_data",
          "data": {
            "text/html": [
              "<div>\n",
              "<style scoped>\n",
              "    .dataframe tbody tr th:only-of-type {\n",
              "        vertical-align: middle;\n",
              "    }\n",
              "\n",
              "    .dataframe tbody tr th {\n",
              "        vertical-align: top;\n",
              "    }\n",
              "\n",
              "    .dataframe thead th {\n",
              "        text-align: right;\n",
              "    }\n",
              "</style>\n",
              "<table border=\"1\" class=\"dataframe\">\n",
              "  <thead>\n",
              "    <tr style=\"text-align: right;\">\n",
              "      <th></th>\n",
              "      <th>user</th>\n",
              "      <th>song</th>\n",
              "      <th>listen_count</th>\n",
              "      <th>title</th>\n",
              "      <th>release</th>\n",
              "      <th>artist_name</th>\n",
              "      <th>year</th>\n",
              "    </tr>\n",
              "  </thead>\n",
              "  <tbody>\n",
              "    <tr>\n",
              "      <th>16</th>\n",
              "      <td>b80344d063b5ccb3212f76538f3d9e43d87dca9e</td>\n",
              "      <td>SOMGIYR12AB0187973</td>\n",
              "      <td>6</td>\n",
              "      <td>Behind The Sea [Live In Chicago]</td>\n",
              "      <td>Live In Chicago</td>\n",
              "      <td>Panic At The Disco</td>\n",
              "      <td>0</td>\n",
              "    </tr>\n",
              "    <tr>\n",
              "      <th>43</th>\n",
              "      <td>b80344d063b5ccb3212f76538f3d9e43d87dca9e</td>\n",
              "      <td>SOYHEPA12A8C13097F</td>\n",
              "      <td>8</td>\n",
              "      <td>Moonshine</td>\n",
              "      <td>Thicker Than Water</td>\n",
              "      <td>Jack Johnson</td>\n",
              "      <td>2003</td>\n",
              "    </tr>\n",
              "  </tbody>\n",
              "</table>\n",
              "</div>"
            ],
            "text/plain": [
              "                                        user  ...  year\n",
              "16  b80344d063b5ccb3212f76538f3d9e43d87dca9e  ...     0\n",
              "43  b80344d063b5ccb3212f76538f3d9e43d87dca9e  ...  2003\n",
              "\n",
              "[2 rows x 7 columns]"
            ]
          },
          "metadata": {
            "tags": []
          }
        }
      ]
    },
    {
      "cell_type": "markdown",
      "metadata": {
        "id": "aC4I2c1AowJR"
      },
      "source": [
        " **Compute svd**"
      ]
    },
    {
      "cell_type": "code",
      "metadata": {
        "id": "9sUhoNy-ov0Q"
      },
      "source": [
        "def compute_svd(urm, K):\n",
        "    U, s, Vt = svds(urm, K)\n",
        "\n",
        "    dim = (len(s), len(s))\n",
        "    S = np.zeros(dim, dtype=np.float32)\n",
        "    for i in range(0, len(s)):\n",
        "        S[i,i] = mt.sqrt(s[i])\n",
        "\n",
        "    U = csc_matrix(U, dtype=np.float32)\n",
        "    S = csc_matrix(S, dtype=np.float32)\n",
        "    Vt = csc_matrix(Vt, dtype=np.float32)\n",
        "    \n",
        "    return U, S, Vt\n",
        "\n",
        "def compute_estimated_matrix(urm, U, S, Vt, uTest, K, test):\n",
        "    rightTerm = S*Vt \n",
        "    max_recommendation = 250\n",
        "    estimatedRatings = np.zeros(shape=(MAX_UID, MAX_PID), dtype=np.float16)\n",
        "    recomendRatings = np.zeros(shape=(MAX_UID,max_recommendation ), dtype=np.float16)\n",
        "    for userTest in uTest:\n",
        "        prod = U[userTest, :]*rightTerm\n",
        "        estimatedRatings[userTest, :] = prod.todense()\n",
        "        recomendRatings[userTest, :] = (-estimatedRatings[userTest, :]).argsort()[:max_recommendation]\n",
        "    return recomendRatings\n",
        "\n",
        "def show_recomendations(uTest, num_recomendations = 10):\n",
        "    for user in uTest:\n",
        "        print('-'*70)\n",
        "        print(\"Recommendation for user id {}\".format(user))\n",
        "        rank_value = 1\n",
        "        i = 0\n",
        "        while (rank_value <  num_recomendations + 1):\n",
        "            so = uTest_recommended_items[user,i:i+1][0]\n",
        "            if (small_set.user[(small_set.so_index_value == so) & (small_set.us_index_value == user)].count()==0):\n",
        "                song_details = small_set[(small_set.so_index_value == so)].\\\n",
        "                    drop_duplicates('so_index_value')[['title','artist_name']]\n",
        "                print(\"The number {} recommended song is {} BY {}\".format(rank_value, \n",
        "                                                                      list(song_details['title'])[0],\n",
        "                                                                      list(song_details['artist_name'])[0]))\n",
        "                rank_value+=1\n",
        "            i += 1"
      ],
      "execution_count": null,
      "outputs": []
    },
    {
      "cell_type": "code",
      "metadata": {
        "id": "-LrwphVCpTi-",
        "colab": {
          "base_uri": "https://localhost:8080/",
          "height": 195
        },
        "outputId": "8d14256e-3d67-43fe-f540-efd887f8dfca"
      },
      "source": [
        "user_song_list_listen = user_song_list_count[['user','listen_count']].groupby('user').sum().reset_index()\n",
        "user_song_list_listen.rename(columns={'listen_count':'total_listen_count'},inplace=True)\n",
        "user_song_list_count_merged = pd.merge(user_song_list_count,user_song_list_listen)\n",
        "user_song_list_count_merged['fractional_play_count'] = \\\n",
        "    user_song_list_count_merged['listen_count']/user_song_list_count_merged['total_listen_count']\n",
        "\n",
        "display(user_song_list_count_merged[user_song_list_count_merged.user =='d6589314c0a9bcbca4fee0c93b14bc402363afea']\\\n",
        "        [['user','song','listen_count','fractional_play_count']].head())"
      ],
      "execution_count": null,
      "outputs": [
        {
          "output_type": "display_data",
          "data": {
            "text/html": [
              "<div>\n",
              "<style scoped>\n",
              "    .dataframe tbody tr th:only-of-type {\n",
              "        vertical-align: middle;\n",
              "    }\n",
              "\n",
              "    .dataframe tbody tr th {\n",
              "        vertical-align: top;\n",
              "    }\n",
              "\n",
              "    .dataframe thead th {\n",
              "        text-align: right;\n",
              "    }\n",
              "</style>\n",
              "<table border=\"1\" class=\"dataframe\">\n",
              "  <thead>\n",
              "    <tr style=\"text-align: right;\">\n",
              "      <th></th>\n",
              "      <th>user</th>\n",
              "      <th>song</th>\n",
              "      <th>listen_count</th>\n",
              "      <th>fractional_play_count</th>\n",
              "    </tr>\n",
              "  </thead>\n",
              "  <tbody>\n",
              "    <tr>\n",
              "      <th>299</th>\n",
              "      <td>d6589314c0a9bcbca4fee0c93b14bc402363afea</td>\n",
              "      <td>SOADQPP12A67020C82</td>\n",
              "      <td>12</td>\n",
              "      <td>0.038961</td>\n",
              "    </tr>\n",
              "    <tr>\n",
              "      <th>300</th>\n",
              "      <td>d6589314c0a9bcbca4fee0c93b14bc402363afea</td>\n",
              "      <td>SOAFTRR12AF72A8D4D</td>\n",
              "      <td>1</td>\n",
              "      <td>0.003247</td>\n",
              "    </tr>\n",
              "    <tr>\n",
              "      <th>301</th>\n",
              "      <td>d6589314c0a9bcbca4fee0c93b14bc402363afea</td>\n",
              "      <td>SOANQFY12AB0183239</td>\n",
              "      <td>1</td>\n",
              "      <td>0.003247</td>\n",
              "    </tr>\n",
              "    <tr>\n",
              "      <th>302</th>\n",
              "      <td>d6589314c0a9bcbca4fee0c93b14bc402363afea</td>\n",
              "      <td>SOAYATB12A6701FD50</td>\n",
              "      <td>1</td>\n",
              "      <td>0.003247</td>\n",
              "    </tr>\n",
              "    <tr>\n",
              "      <th>303</th>\n",
              "      <td>d6589314c0a9bcbca4fee0c93b14bc402363afea</td>\n",
              "      <td>SOBOAFP12A8C131F36</td>\n",
              "      <td>7</td>\n",
              "      <td>0.022727</td>\n",
              "    </tr>\n",
              "  </tbody>\n",
              "</table>\n",
              "</div>"
            ],
            "text/plain": [
              "                                         user  ... fractional_play_count\n",
              "299  d6589314c0a9bcbca4fee0c93b14bc402363afea  ...              0.038961\n",
              "300  d6589314c0a9bcbca4fee0c93b14bc402363afea  ...              0.003247\n",
              "301  d6589314c0a9bcbca4fee0c93b14bc402363afea  ...              0.003247\n",
              "302  d6589314c0a9bcbca4fee0c93b14bc402363afea  ...              0.003247\n",
              "303  d6589314c0a9bcbca4fee0c93b14bc402363afea  ...              0.022727\n",
              "\n",
              "[5 rows x 4 columns]"
            ]
          },
          "metadata": {
            "tags": []
          }
        }
      ]
    },
    {
      "cell_type": "code",
      "metadata": {
        "id": "gmqBjSBYpgmp",
        "colab": {
          "base_uri": "https://localhost:8080/",
          "height": 127
        },
        "outputId": "b215bf87-af75-4e2e-d989-ce47dbd8d087"
      },
      "source": [
        "user_codes = user_song_list_count_merged.user.drop_duplicates().reset_index()\n",
        "user_codes.rename(columns={'index':'user_index'}, inplace=True)\n",
        "user_codes['us_index_value'] = list(user_codes.index)\n",
        "\n",
        "song_codes = user_song_list_count_merged.song.drop_duplicates().reset_index()\n",
        "song_codes.rename(columns={'index':'song_index'}, inplace=True)\n",
        "song_codes['so_index_value'] = list(song_codes.index)\n",
        "\n",
        "small_set = pd.merge(user_song_list_count_merged,song_codes,how='left')\n",
        "small_set = pd.merge(small_set,user_codes,how='left')\n",
        "mat_candidate = small_set[['us_index_value','so_index_value','fractional_play_count']]\n",
        "\n",
        "data_array = mat_candidate.fractional_play_count.values\n",
        "row_array = mat_candidate.us_index_value.values\n",
        "col_array = mat_candidate.so_index_value.values\n",
        "\n",
        "data_sparse = coo_matrix((data_array, (row_array, col_array)),dtype=float)\n",
        "\n",
        "display(data_sparse)\n",
        "\n",
        "print('User used to performed the content based recommendations earlie:.')\n",
        "display(user_codes[user_codes.user =='b80344d063b5ccb3212f76538f3d9e43d87dca9e'])"
      ],
      "execution_count": null,
      "outputs": [
        {
          "output_type": "display_data",
          "data": {
            "text/plain": [
              "<76353x10000 sparse matrix of type '<class 'numpy.float64'>'\n",
              "\twith 2000000 stored elements in COOrdinate format>"
            ]
          },
          "metadata": {
            "tags": []
          }
        },
        {
          "output_type": "stream",
          "text": [
            "User used to performed the content based recommendations earlie:.\n"
          ],
          "name": "stdout"
        },
        {
          "output_type": "display_data",
          "data": {
            "text/html": [
              "<div>\n",
              "<style scoped>\n",
              "    .dataframe tbody tr th:only-of-type {\n",
              "        vertical-align: middle;\n",
              "    }\n",
              "\n",
              "    .dataframe tbody tr th {\n",
              "        vertical-align: top;\n",
              "    }\n",
              "\n",
              "    .dataframe thead th {\n",
              "        text-align: right;\n",
              "    }\n",
              "</style>\n",
              "<table border=\"1\" class=\"dataframe\">\n",
              "  <thead>\n",
              "    <tr style=\"text-align: right;\">\n",
              "      <th></th>\n",
              "      <th>user_index</th>\n",
              "      <th>user</th>\n",
              "      <th>us_index_value</th>\n",
              "    </tr>\n",
              "  </thead>\n",
              "  <tbody>\n",
              "    <tr>\n",
              "      <th>0</th>\n",
              "      <td>0</td>\n",
              "      <td>b80344d063b5ccb3212f76538f3d9e43d87dca9e</td>\n",
              "      <td>0</td>\n",
              "    </tr>\n",
              "  </tbody>\n",
              "</table>\n",
              "</div>"
            ],
            "text/plain": [
              "   user_index                                      user  us_index_value\n",
              "0           0  b80344d063b5ccb3212f76538f3d9e43d87dca9e               0"
            ]
          },
          "metadata": {
            "tags": []
          }
        }
      ]
    },
    {
      "cell_type": "code",
      "metadata": {
        "id": "dtgHP6GmppeR",
        "colab": {
          "base_uri": "https://localhost:8080/",
          "height": 1000
        },
        "outputId": "c42dee7b-7317-4cf0-f3db-bb03a8d3ce0a"
      },
      "source": [
        "K = 50\n",
        "urm = data_sparse\n",
        "MAX_PID = urm.shape[1]\n",
        "MAX_UID = urm.shape[0]\n",
        "\n",
        "U, S, Vt = compute_svd(urm, K)\n",
        "uTest = [4,5,6,7,8,873,23]\n",
        "\n",
        "uTest_recommended_items = compute_estimated_matrix(urm, U, S, Vt, uTest, K, True)\n",
        "\n",
        "show_recomendations(uTest)"
      ],
      "execution_count": null,
      "outputs": [
        {
          "output_type": "stream",
          "text": [
            "----------------------------------------------------------------------\n",
            "Recommendation for user id 4\n",
            "The number 1 recommended song is 911 BY Wyclef Jean / Mary J. Blige\n",
            "The number 2 recommended song is If I Ain't Got You BY Alicia Keys\n",
            "The number 3 recommended song is Sample Track 2 BY Simon Harris\n",
            "The number 4 recommended song is Kennedy Rag BY Suzy Thompson\n",
            "The number 5 recommended song is Clocks BY Coldplay\n",
            "The number 6 recommended song is Yellow BY Coldplay\n",
            "The number 7 recommended song is Hey_ Soul Sister BY Train\n",
            "The number 8 recommended song is The Scientist BY Coldplay\n",
            "The number 9 recommended song is Eco BY Jorge Drexler\n",
            "The number 10 recommended song is Kryptonite BY 3 Doors Down\n",
            "----------------------------------------------------------------------\n",
            "Recommendation for user id 5\n",
            "The number 1 recommended song is Eenie Meenie BY Sean Kingston and Justin Bieber\n",
            "The number 2 recommended song is Sample Track 2 BY Simon Harris\n",
            "The number 3 recommended song is U Smile BY Justin Bieber\n",
            "The number 4 recommended song is Love Me BY Justin Bieber\n",
            "The number 5 recommended song is One Time BY Justin Bieber\n",
            "The number 6 recommended song is That Should Be Me BY Justin Bieber\n",
            "The number 7 recommended song is Teach Me How To Dougie BY California Swag District\n",
            "The number 8 recommended song is The Gift BY Angels and Airwaves\n",
            "The number 9 recommended song is Kennedy Rag BY Suzy Thompson\n",
            "The number 10 recommended song is One Less Lonely Girl BY Justin Bieber\n",
            "----------------------------------------------------------------------\n",
            "Recommendation for user id 6\n",
            "The number 1 recommended song is Pursuit Of Happiness (nightmare) BY Kid Cudi / MGMT / Ratatat\n",
            "The number 2 recommended song is The Scientist BY Coldplay\n",
            "The number 3 recommended song is Lucky (Album Version) BY Jason Mraz & Colbie Caillat\n",
            "The number 4 recommended song is Vanilla Twilight BY Owl City\n",
            "The number 5 recommended song is Bleed It Out [Live At Milton Keynes] BY Linkin Park\n",
            "The number 6 recommended song is The Only Exception (Album Version) BY Paramore\n",
            "The number 7 recommended song is All The Right Moves BY OneRepublic\n",
            "The number 8 recommended song is Forever BY Drake / Kanye West / Lil Wayne / Eminem\n",
            "The number 9 recommended song is Love Story BY Taylor Swift\n",
            "The number 10 recommended song is Heartbreak Warfare BY John Mayer\n",
            "----------------------------------------------------------------------\n",
            "Recommendation for user id 7\n",
            "The number 1 recommended song is Lucky (Album Version) BY Jason Mraz & Colbie Caillat\n",
            "The number 2 recommended song is Fix You BY Coldplay\n",
            "The number 3 recommended song is Use Somebody BY Kings Of Leon\n",
            "The number 4 recommended song is Shiver BY Coldplay\n",
            "The number 5 recommended song is Don't Panic BY Coldplay\n",
            "The number 6 recommended song is Heartbreak Warfare BY John Mayer\n",
            "The number 7 recommended song is Sparks BY Coldplay\n",
            "The number 8 recommended song is Pursuit Of Happiness (nightmare) BY Kid Cudi / MGMT / Ratatat\n",
            "The number 9 recommended song is Uprising BY Muse\n",
            "The number 10 recommended song is Bitter Sweet Symphony BY The Verve\n",
            "----------------------------------------------------------------------\n",
            "Recommendation for user id 8\n",
            "The number 1 recommended song is Alejandro BY Lady GaGa\n",
            "The number 2 recommended song is Dog Days Are Over (Radio Edit) BY Florence + The Machine\n",
            "The number 3 recommended song is Just Dance BY Lady GaGa / Colby O'Donis\n",
            "The number 4 recommended song is Billionaire [feat. Bruno Mars]  (Explicit Album Version) BY Travie McCoy\n",
            "The number 5 recommended song is Sample Track 2 BY Simon Harris\n",
            "The number 6 recommended song is OMG BY Usher featuring will.i.am\n",
            "The number 7 recommended song is Greece 2000 BY Three Drives\n",
            "The number 8 recommended song is Clocks BY Coldplay\n",
            "The number 9 recommended song is I Gotta Feeling BY Black Eyed Peas\n",
            "The number 10 recommended song is Livin' On A Prayer BY Bon Jovi\n",
            "----------------------------------------------------------------------\n",
            "Recommendation for user id 873\n",
            "The number 1 recommended song is Dead Souls (LP Version) BY Nine Inch Nails\n",
            "The number 2 recommended song is Canada BY Five Iron Frenzy\n",
            "The number 3 recommended song is Behind The Sea [Live In Chicago] BY Panic At The Disco\n",
            "The number 4 recommended song is Sample Track 2 BY Simon Harris\n",
            "The number 5 recommended song is Creep (Explicit) BY Radiohead\n",
            "The number 6 recommended song is Home BY Edward Sharpe & The Magnetic Zeros\n",
            "The number 7 recommended song is Kryptonite BY 3 Doors Down\n",
            "The number 8 recommended song is Without Me BY Eminem\n",
            "The number 9 recommended song is Paradise City BY Guns N' Roses\n",
            "The number 10 recommended song is Livin' On A Prayer BY Bon Jovi\n",
            "----------------------------------------------------------------------\n",
            "Recommendation for user id 23\n",
            "The number 1 recommended song is Pursuit Of Happiness (nightmare) BY Kid Cudi / MGMT / Ratatat\n",
            "The number 2 recommended song is Day 'N' Nite BY Kid Cudi Vs Crookers\n",
            "The number 3 recommended song is I Gotta Feeling BY Black Eyed Peas\n",
            "The number 4 recommended song is Imma Be BY Black Eyed Peas\n",
            "The number 5 recommended song is Teach Me How To Dougie BY California Swag District\n",
            "The number 6 recommended song is Sexy Bitch BY DJ Dizzy\n",
            "The number 7 recommended song is Use Somebody BY Kings Of Leon\n",
            "The number 8 recommended song is Yeah! BY Usher Featuring Lil' Jon & Ludacris\n",
            "The number 9 recommended song is Nothin' On You [feat. Bruno Mars] (Album Version) BY B.o.B\n",
            "The number 10 recommended song is Bulletproof BY La Roux\n"
          ],
          "name": "stdout"
        }
      ]
    },
    {
      "cell_type": "code",
      "metadata": {
        "id": "C_CeKnC0qKWR",
        "colab": {
          "base_uri": "https://localhost:8080/",
          "height": 235
        },
        "outputId": "af4dfc2c-1394-40b9-ae48-bafce6d6db77"
      },
      "source": [
        "uTest = [1724]\n",
        "\n",
        "print(\"Predictied ratings:\")\n",
        "uTest_recommended_items = compute_estimated_matrix(urm, U, S, Vt, uTest, K, True)\n",
        "show_recomendations(uTest)"
      ],
      "execution_count": null,
      "outputs": [
        {
          "output_type": "stream",
          "text": [
            "Predictied ratings:\n",
            "----------------------------------------------------------------------\n",
            "Recommendation for user id 1724\n",
            "The number 1 recommended song is OMG BY Usher featuring will.i.am\n",
            "The number 2 recommended song is Crossfire BY Rick Cua\n",
            "The number 3 recommended song is Cosmic Love BY Florence + The Machine\n",
            "The number 4 recommended song is You've Got The Love BY Florence + The Machine\n",
            "The number 5 recommended song is Drop The World BY Lil Wayne / Eminem\n",
            "The number 6 recommended song is Day 'N' Nite BY Kid Cudi Vs Crookers\n",
            "The number 7 recommended song is Secrets BY OneRepublic\n",
            "The number 8 recommended song is Victoria (LP Version) BY Old 97's\n",
            "The number 9 recommended song is Use Somebody BY Kings Of Leon\n",
            "The number 10 recommended song is Sample Track 2 BY Simon Harris\n"
          ],
          "name": "stdout"
        }
      ]
    }
  ]
}